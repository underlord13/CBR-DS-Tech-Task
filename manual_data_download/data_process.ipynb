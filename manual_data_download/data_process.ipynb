{
 "cells": [
  {
   "cell_type": "code",
   "execution_count": 44,
   "metadata": {},
   "outputs": [],
   "source": [
    "import os\n",
    "import pandas as pd"
   ]
  },
  {
   "cell_type": "code",
   "execution_count": 54,
   "metadata": {},
   "outputs": [
    {
     "name": "stdout",
     "output_type": "stream",
     "text": [
      "Renamed \"11521100300010200001_Индексы_потребительских_цен_на_товары_и_услуги.csv\" to \"data_raw.csv\"\n"
     ]
    },
    {
     "data": {
      "text/plain": [
       "['data_download.ipynb', 'data_process.ipynb', 'data_raw.csv']"
      ]
     },
     "execution_count": 54,
     "metadata": {},
     "output_type": "execute_result"
    }
   ],
   "source": [
    "# Specify the directory where the CSV file is located\n",
    "directory = os.getcwd()\n",
    "\n",
    "# List all files in the directory\n",
    "files = os.listdir(directory)\n",
    "\n",
    "# Iterate over the files\n",
    "for file in files:\n",
    "    # Check if the file is a CSV and its name is not \"data.csv\"\n",
    "    if file.endswith('.csv') and file != 'data_raw.csv' and file != 'data.csv':\n",
    "        # Construct full file path\n",
    "        old_file_name = os.path.join(directory, file)\n",
    "        new_file_name = os.path.join(directory, 'data_raw.csv')\n",
    "        \n",
    "        # Rename the file\n",
    "        if os.path.exists(old_file_name):\n",
    "            # Remove the new file if it already exists\n",
    "            if os.path.exists(new_file_name):\n",
    "                os.remove(new_file_name)\n",
    "    \n",
    "            os.rename(old_file_name, new_file_name)\n",
    "        \n",
    "        # Print a message indicating the file has been renamed\n",
    "        print(f'Renamed \"{file}\" to \"data_raw.csv\"')\n",
    "        break  # Assuming there's only one CSV file to rename\n",
    "\n",
    "# Verify the renaming by listing files in the directory\n",
    "os.listdir(os.getcwd())"
   ]
  },
  {
   "cell_type": "code",
   "execution_count": 55,
   "metadata": {},
   "outputs": [
    {
     "data": {
      "text/html": [
       "<div>\n",
       "<style scoped>\n",
       "    .dataframe tbody tr th:only-of-type {\n",
       "        vertical-align: middle;\n",
       "    }\n",
       "\n",
       "    .dataframe tbody tr th {\n",
       "        vertical-align: top;\n",
       "    }\n",
       "\n",
       "    .dataframe thead th {\n",
       "        text-align: right;\n",
       "    }\n",
       "</style>\n",
       "<table border=\"1\" class=\"dataframe\">\n",
       "  <thead>\n",
       "    <tr style=\"text-align: right;\">\n",
       "      <th></th>\n",
       "      <th>Unnamed: 0</th>\n",
       "      <th>11521100300010200001 Индексы потребительских цен на товары и услуги</th>\n",
       "    </tr>\n",
       "  </thead>\n",
       "  <tbody>\n",
       "    <tr>\n",
       "      <th>0</th>\n",
       "      <td>январь 2016 г.</td>\n",
       "      <td>109,77</td>\n",
       "    </tr>\n",
       "    <tr>\n",
       "      <th>1</th>\n",
       "      <td>февраль 2016 г.</td>\n",
       "      <td>108,06</td>\n",
       "    </tr>\n",
       "    <tr>\n",
       "      <th>2</th>\n",
       "      <td>март 2016 г.</td>\n",
       "      <td>107,27</td>\n",
       "    </tr>\n",
       "    <tr>\n",
       "      <th>3</th>\n",
       "      <td>апрель 2016 г.</td>\n",
       "      <td>107,25</td>\n",
       "    </tr>\n",
       "    <tr>\n",
       "      <th>4</th>\n",
       "      <td>май 2016 г.</td>\n",
       "      <td>107,31</td>\n",
       "    </tr>\n",
       "  </tbody>\n",
       "</table>\n",
       "</div>"
      ],
      "text/plain": [
       "        Unnamed: 0  \\\n",
       "0   январь 2016 г.   \n",
       "1  февраль 2016 г.   \n",
       "2     март 2016 г.   \n",
       "3   апрель 2016 г.   \n",
       "4      май 2016 г.   \n",
       "\n",
       "  11521100300010200001 Индексы потребительских цен на товары и услуги  \n",
       "0                                             109,77                   \n",
       "1                                             108,06                   \n",
       "2                                             107,27                   \n",
       "3                                             107,25                   \n",
       "4                                             107,31                   "
      ]
     },
     "execution_count": 55,
     "metadata": {},
     "output_type": "execute_result"
    }
   ],
   "source": [
    "file_path = os.path.join(os.getcwd(), \"data_raw.csv\")\n",
    "\n",
    "# Attempting to read the CSV file again with a specified encoding to handle potential encoding issues\n",
    "\n",
    "df = pd.read_csv(file_path, encoding='cp1251')\n",
    "\n",
    "# Display the first few rows of the dataframe to understand its structure\n",
    "df.head()"
   ]
  },
  {
   "cell_type": "code",
   "execution_count": 56,
   "metadata": {},
   "outputs": [
    {
     "data": {
      "text/html": [
       "<div>\n",
       "<style scoped>\n",
       "    .dataframe tbody tr th:only-of-type {\n",
       "        vertical-align: middle;\n",
       "    }\n",
       "\n",
       "    .dataframe tbody tr th {\n",
       "        vertical-align: top;\n",
       "    }\n",
       "\n",
       "    .dataframe thead th {\n",
       "        text-align: right;\n",
       "    }\n",
       "</style>\n",
       "<table border=\"1\" class=\"dataframe\">\n",
       "  <thead>\n",
       "    <tr style=\"text-align: right;\">\n",
       "      <th></th>\n",
       "      <th>date</th>\n",
       "      <th>CPI</th>\n",
       "    </tr>\n",
       "  </thead>\n",
       "  <tbody>\n",
       "    <tr>\n",
       "      <th>0</th>\n",
       "      <td>2016-01-01</td>\n",
       "      <td>109.77</td>\n",
       "    </tr>\n",
       "    <tr>\n",
       "      <th>1</th>\n",
       "      <td>2016-02-01</td>\n",
       "      <td>108.06</td>\n",
       "    </tr>\n",
       "    <tr>\n",
       "      <th>2</th>\n",
       "      <td>2016-03-01</td>\n",
       "      <td>107.27</td>\n",
       "    </tr>\n",
       "    <tr>\n",
       "      <th>3</th>\n",
       "      <td>2016-04-01</td>\n",
       "      <td>107.25</td>\n",
       "    </tr>\n",
       "    <tr>\n",
       "      <th>4</th>\n",
       "      <td>2016-05-01</td>\n",
       "      <td>107.31</td>\n",
       "    </tr>\n",
       "  </tbody>\n",
       "</table>\n",
       "</div>"
      ],
      "text/plain": [
       "        date     CPI\n",
       "0 2016-01-01  109.77\n",
       "1 2016-02-01  108.06\n",
       "2 2016-03-01  107.27\n",
       "3 2016-04-01  107.25\n",
       "4 2016-05-01  107.31"
      ]
     },
     "execution_count": 56,
     "metadata": {},
     "output_type": "execute_result"
    }
   ],
   "source": [
    "from datetime import datetime\n",
    "\n",
    "# Create a dictionary to map Cyrillic month names to month numbers\n",
    "month_map = {\n",
    "    'январь': '01',\n",
    "    'февраль': '02',\n",
    "    'март': '03',\n",
    "    'апрель': '04',\n",
    "    'май': '05',\n",
    "    'июнь': '06',\n",
    "    'июль': '07',\n",
    "    'август': '08',\n",
    "    'сентябрь': '09',\n",
    "    'октябрь': '10',\n",
    "    'ноябрь': '11',\n",
    "    'декабрь': '12'\n",
    "}\n",
    "\n",
    "# Function to convert Cyrillic date to dd.mm.yyyy format\n",
    "def convert_date(cyrillic_date):\n",
    "    # Split the date string to extract month and year\n",
    "    parts = cyrillic_date.split()\n",
    "    month = month_map[parts[0]]\n",
    "    year = parts[1]\n",
    "    # Create a date string in dd.mm.yyyy format\n",
    "    formatted_date = f'01.{month}.{year}'\n",
    "    formatted_date = pd.to_datetime(formatted_date, format='%d.%m.%Y')\n",
    "    return formatted_date\n",
    "\n",
    "# Apply the conversion function to the first column of the dataframe\n",
    "df.iloc[:, 0] = df.iloc[:, 0].apply(convert_date)\n",
    "\n",
    "# Rename the column\n",
    "df.rename(columns={df.columns[0]: 'date'}, inplace=True)\n",
    "df.rename(columns={df.columns[1]: 'CPI'}, inplace=True)\n",
    "\n",
    "# Replace comma with period\n",
    "df['CPI'] = df['CPI'].str.replace(',', '.')\n",
    "\n",
    "# Convert the column to numeric\n",
    "df['CPI'] = pd.to_numeric(df['CPI'], errors='coerce')\n",
    "\n",
    "# Display the updated dataframe\n",
    "df.head()"
   ]
  },
  {
   "cell_type": "code",
   "execution_count": 57,
   "metadata": {},
   "outputs": [
    {
     "data": {
      "text/plain": [
       "date    datetime64[ns]\n",
       "CPI            float64\n",
       "dtype: object"
      ]
     },
     "execution_count": 57,
     "metadata": {},
     "output_type": "execute_result"
    }
   ],
   "source": [
    "df.dtypes"
   ]
  },
  {
   "cell_type": "code",
   "execution_count": 58,
   "metadata": {},
   "outputs": [],
   "source": [
    "df.to_csv('data.csv', index=False)"
   ]
  }
 ],
 "metadata": {
  "kernelspec": {
   "display_name": "Python 3",
   "language": "python",
   "name": "python3"
  },
  "language_info": {
   "codemirror_mode": {
    "name": "ipython",
    "version": 3
   },
   "file_extension": ".py",
   "mimetype": "text/x-python",
   "name": "python",
   "nbconvert_exporter": "python",
   "pygments_lexer": "ipython3",
   "version": "3.9.0"
  }
 },
 "nbformat": 4,
 "nbformat_minor": 2
}
